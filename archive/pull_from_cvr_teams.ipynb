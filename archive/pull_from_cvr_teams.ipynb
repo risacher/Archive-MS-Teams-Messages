{
 "metadata": {
  "language_info": {
   "codemirror_mode": {
    "name": "ipython",
    "version": 3
   },
   "file_extension": ".py",
   "mimetype": "text/x-python",
   "name": "python",
   "nbconvert_exporter": "python",
   "pygments_lexer": "ipython3",
   "version": "3.8.8"
  },
  "orig_nbformat": 2,
  "kernelspec": {
   "name": "python388jvsc74a57bd0b3ba2566441a7c06988d0923437866b63cedc61552a5af99d1f4fb67d367b25f",
   "display_name": "Python 3.8.8 64-bit ('base': conda)"
  },
  "metadata": {
   "interpreter": {
    "hash": "d9af2e32a5ad6e5c5f98229481d7f4ca3d60c1f6ad52fd9ba4da285d14500705"
   }
  }
 },
 "nbformat": 4,
 "nbformat_minor": 2,
 "cells": [
  {
   "cell_type": "code",
   "execution_count": null,
   "metadata": {},
   "outputs": [],
   "source": [
    "import requests, json, re, datetime, dateutil.parser"
   ]
  },
  {
   "cell_type": "code",
   "execution_count": null,
   "metadata": {},
   "outputs": [],
   "source": [
    "token = 'your token'"
   ]
  },
  {
   "cell_type": "code",
   "execution_count": null,
   "metadata": {},
   "outputs": [],
   "source": [
    "response = requests.get('https://graph.microsoft.com/beta/me/joinedTeams', headers={'Authorization': token})\n",
    "if (response.status_code == 200):\n",
    "    print('Success')\n",
    "else:\n",
    "    print('Error: ' + str(response))\n"
   ]
  },
  {
   "cell_type": "code",
   "execution_count": null,
   "metadata": {},
   "outputs": [],
   "source": [
    "teams = json.loads(response.content)\n",
    "for team in teams['value']:\n",
    "    print(team['id'] + '   ' + team['displayName'])"
   ]
  },
  {
   "cell_type": "code",
   "execution_count": null,
   "metadata": {},
   "outputs": [],
   "source": [
    "# Input the a groupID UUID from previous step\n",
    "groupID = \"3055aa2d-b68d-4a8d-861c-0965de9ad15d\"\n",
    "\n",
    "# Get list of channels\n",
    "response = requests.get('https://graph.microsoft.com/beta/teams/3055aa2d-b68d-4a8d-861c-0965de9ad15d/channels', headers={'Authorization': token})\n",
    "if (response.status_code == 200):\n",
    "    channels = json.loads(response.content)\n",
    "    for channel in channels['value']:\n",
    "        print(channel['id'] + '   ' + channel['displayName'])\n",
    "else:\n",
    "    print('Error: ' + str(response))\n",
    "\n"
   ]
  },
  {
   "cell_type": "code",
   "execution_count": null,
   "metadata": {},
   "outputs": [],
   "source": [
    "# Do all for channels for single team\n",
    "\n",
    "groupID = \"3055aa2d-b68d-4a8d-861c-0965de9ad15d\"\n",
    "\n",
    "for channel in channels['value']:\n",
    "    print(channel['id'] + '   ' + channel['displayName'])\n",
    "\n",
    "    # Get JSON and save to file\n",
    "    chat = pullMessagesIntoJSON(groupID, channel['id'])\n",
    "    f = open('output/' + channel['displayName'] + \"_output.json\", \"w\")\n",
    "    f.write(json.dumps(chat))\n",
    "    f.close()\n",
    "\n",
    "    # Parse into HTML and save to file\n",
    "    chatHTML = parseJSONintoHTML(chat)\n",
    "    f = open('output/' + channel['displayName'] + \"_output.html\", \"w\")\n",
    "    f.write(json.dumps(chatHTML))\n",
    "    f.close()\n",
    "\n",
    "print('All done!')"
   ]
  },
  {
   "cell_type": "code",
   "execution_count": null,
   "metadata": {},
   "outputs": [],
   "source": [
    "def pullfromAPI(url):\n",
    "    # print(url)\n",
    "    response = requests.get(url, headers={'Authorization': token})\n",
    "    messages = json.loads(response.content)\n",
    "    # print(\"Pulled \" +  \" items.\")\n",
    "    return messages\n",
    "\n",
    "def pullMessagesIntoJSON(_groupID, _channelID):\n",
    "    # Gather all messages\n",
    "    allMessagesRaw = []\n",
    "    linkToNextBatch = \"\"\n",
    "\n",
    "    # Get list of channels\n",
    "    messages = pullfromAPI('https://graph.microsoft.com/beta/teams/' + _groupID + '/channels/' + _channelID + '/messages?$top=100')\n",
    "    for item in messages[\"value\"]: allMessagesRaw.append(item)\n",
    "\n",
    "    # If there's another batch\n",
    "    if \"@odata.nextLink\" in messages.keys():\n",
    "        linkToNextBatch = messages[\"@odata.nextLink\"]\n",
    "        print('Another batch available')\n",
    "\n",
    "        while True:\n",
    "            messages = pullfromAPI(linkToNextBatch)\n",
    "            for item in messages[\"value\"]: allMessagesRaw.append(item)\n",
    "\n",
    "            if \"@odata.nextLink\" in messages.keys():\n",
    "                linkToNextBatch = messages[\"@odata.nextLink\"]\n",
    "                print('Another batch available')\n",
    "            else:\n",
    "                break\n",
    "\n",
    "    print('Done with pulling messages! Now adding in replies...')\n",
    "\n",
    "    # For each message, pull replies and add to dict\n",
    "    for msg in allMessagesRaw: \n",
    "        replies = pullfromAPI('https://graph.microsoft.com/beta/teams/' + _groupID + '/channels/' + _channelID + '/messages/' + msg[\"id\"] + '/replies')\n",
    "        msg[\"replies\"] = []\n",
    "\n",
    "        if replies['@odata.count'] > 0:\n",
    "            for reply in replies[\"value\"]: msg[\"replies\"].append(reply)\n",
    "\n",
    "            # Check if more\n",
    "            if \"@odata.nextLink\" in replies.keys():\n",
    "                while True:\n",
    "                    linkToNextBatch = replies[\"@odata.nextLink\"]\n",
    "                    print('Another batch available')\n",
    "                    replies = pullfromAPI(linkToNextBatch)\n",
    "                    for reply in replies[\"value\"]: msg[\"replies\"].append(reply)\n",
    "\n",
    "                    # If more replies, repeat, otherwise break\n",
    "                    if \"@odata.nextLink\" in replies.keys():\n",
    "                        linkToNextBatch = replies[\"@odata.nextLink\"]\n",
    "                        print('Another batch available')\n",
    "                    else:\n",
    "                        break\n",
    "    print('Collected ' + str(len(allMessagesRaw)) + ' messages!')\n",
    "    return allMessagesRaw\n",
    "\n",
    "def parseJSONintoHTML(jsonChatMessages):\n",
    "    finalHTMLOutput = \"\"\n",
    "\n",
    "    jsonChatMessages.sort(key=lambda x: dateutil.parser.isoparse(x['createdDateTime']))\n",
    "\n",
    "    for msg in jsonChatMessages: \n",
    "        b = msg['body']['content']\n",
    "        if b is not None:\n",
    "            b = re.sub('\\n+', '', b)\n",
    "            b = re.sub('\\t+', '', b)\n",
    "\n",
    "            finalHTMLOutput += '<hr><hr><h3>' + msg['from']['user']['displayName'] + ':</h3><h5>Created: ' + msg[\"createdDateTime\"] + '</h5>' + b + '<blockquote>'\n",
    "\n",
    "        msg['replies'].sort(key=lambda x: dateutil.parser.isoparse(x['createdDateTime']))\n",
    "        for reply in msg['replies']:\n",
    "            try:\n",
    "                user = str(reply['from']['user']['displayName'])\n",
    "            except TypeError:\n",
    "                user = 'unknown'\n",
    "                pass\n",
    "\n",
    "            try:\n",
    "                replyContent = reply['body']['content']\n",
    "                replyContent = re.sub('\\n+', '', replyContent)\n",
    "                replyContent = re.sub('\\t+', '', replyContent)\n",
    "            except TypeError:\n",
    "                replyContent = 'unknown'\n",
    "                pass\n",
    "\n",
    "            finalHTMLOutput += '<h3>Reply From: ' + user + '</h3>' + '<h5>Created: ' + reply[\"createdDateTime\"] + '</h5>' + replyContent\n",
    "\n",
    "        finalHTMLOutput += '</blockquote>'\n",
    "    return finalHTMLOutput\n"
   ]
  },
  {
   "cell_type": "code",
   "execution_count": null,
   "metadata": {},
   "outputs": [],
   "source": [
    "\n",
    "\n"
   ]
  },
  {
   "cell_type": "code",
   "execution_count": null,
   "metadata": {},
   "outputs": [],
   "source": [
    "\n"
   ]
  },
  {
   "cell_type": "code",
   "execution_count": null,
   "metadata": {
    "tags": []
   },
   "outputs": [],
   "source": [
    "\n",
    "\n",
    "f = open(\"Crowdsourcing.html\", \"w\")\n",
    "f.write(json.dumps(finalHTMLOutput))\n",
    "f.close()\n",
    "\n",
    "print('done')"
   ]
  },
  {
   "cell_type": "code",
   "execution_count": null,
   "metadata": {},
   "outputs": [],
   "source": [
    "# Users\n",
    "allUsers = []\n",
    "f = open('users_output.json', \"w\")\n",
    "\n",
    "messages = pullfromAPI('https://graph.microsoft.com/v1.0/users')\n",
    "for item in messages[\"value\"]: f.write(json.dumps(item))\n",
    "\n",
    "\n",
    "# If there's another batch\n",
    "if \"@odata.nextLink\" in messages.keys():\n",
    "    linkToNextBatch = messages[\"@odata.nextLink\"]\n",
    "    i = 0\n",
    "\n",
    "    while True:\n",
    "        messages = pullfromAPI(linkToNextBatch)\n",
    "        for item in messages[\"value\"]: f.write(json.dumps(item))\n",
    "\n",
    "        if \"@odata.nextLink\" in messages.keys():\n",
    "            linkToNextBatch = messages[\"@odata.nextLink\"]\n",
    "            # print('Another batch available')\n",
    "        else:\n",
    "            break\n",
    "\n",
    "print('Done!')"
   ]
  },
  {
   "cell_type": "code",
   "execution_count": null,
   "metadata": {},
   "outputs": [],
   "source": []
  }
 ]
}